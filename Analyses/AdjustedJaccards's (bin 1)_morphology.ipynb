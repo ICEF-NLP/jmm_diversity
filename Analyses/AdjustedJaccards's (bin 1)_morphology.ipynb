{
 "cells": [
  {
   "cell_type": "code",
   "execution_count": 3,
   "metadata": {
    "executionInfo": {
     "elapsed": 1471,
     "status": "ok",
     "timestamp": 1686659156763,
     "user": {
      "displayName": "Ximena Gutierrez",
      "userId": "04882399948495354315"
     },
     "user_tz": -120
    },
    "id": "EzQ2EQDCB9k0"
   },
   "outputs": [],
   "source": [
    "import pandas as pd\n",
    "import numpy as np\n",
    "import seaborn as sb\n",
    "import matplotlib.pyplot as plt\n",
    "plt.rcParams['figure.figsize'] = [9, 6]"
   ]
  },
  {
   "cell_type": "markdown",
   "metadata": {
    "id": "57lKXqHQ9WRo"
   },
   "source": [
    "* Final grid of plots for the article: [Edit  here](https://docs.google.com/presentation/d/14qe4JVV-qUpcihE04oXFo_aE8usiCojYx7LBn2HsjF0/edit?usp=sharing)"
   ]
  },
  {
   "cell_type": "markdown",
   "metadata": {
    "id": "WyagmuNPzb40"
   },
   "source": [
    "**First... we load data and define the functions we are going to need**"
   ]
  },
  {
   "cell_type": "code",
   "execution_count": 4,
   "metadata": {
    "executionInfo": {
     "elapsed": 5549,
     "status": "ok",
     "timestamp": 1686659165198,
     "user": {
      "displayName": "Ximena Gutierrez",
      "userId": "04882399948495354315"
     },
     "user_tz": -120
    },
    "id": "GD6BJBx9CF4G"
   },
   "outputs": [],
   "source": [
    "#***All the code to do the sampling, calculating measures, and finally obtain these tsvs, is not included in this notebook***\n",
    "clc_10k=pd.read_csv('../wordlength_results//RESULTS_100LC_tokens/sample10000_logographicadjusted.tsv', sep='\\t',index_col=0)\n",
    "ud_10k=pd.read_csv('../wordlength_results/RESULTS_ud-processed_tokens/ud-processed.10000.stats_adjusted.tsv', sep='\\t',index_col=0)\n",
    "bibles_10k=pd.read_csv('../wordlength_results/RESULTS_biblecorpus100-processed_tokens/biblecorpus100-processed.10000.stats_adjusted.tsv', sep='\\t',index_col=0)\n",
    "xcopa_10k=pd.read_csv('../wordlength_results/RESULTS_xcopa-processed_tokens/xcopa-processed.10000.stats_adjusted.tsv', sep='\\t',index_col=0)\n",
    "tydiqa_10k=pd.read_csv('../wordlength_results/RESULTS_tydiqa-processed_tokens/tydiqa-processed.10000.stats_adjusted.tsv', sep='\\t',index_col=0)\n",
    "xquad_10k=pd.read_csv('../wordlength_results/RESULTS_xquad-processed_tokens/xquad-processed.10000.stats_adjusted.tsv', sep='\\t',index_col=0)\n",
    "xnli_10k=pd.read_csv('../wordlength_results/RESULTS_xnli-processed_tokens/xnli-processed.10000.stats_adjusted.tsv', sep='\\t',index_col=0)\n",
    "xglue_10k=pd.read_csv('../wordlength_results/RESULTS_xglue-processed_tokens/xglue-processed.10000.stats_adjusted.tsv', sep='\\t',index_col=0)\n",
    "xtreme_10k=pd.read_csv('../wordlength_results/RESULTS_xtreme-processed_tokens/xtreme-processed.10000.stats_adjusted.tsv', sep='\\t',index_col=0)\n",
    "mbertwiki_10k=pd.read_csv('../wordlength_results/RESULTS_mbertwiki-processed_tokens/mbertwiki-processed.10000.stats_adjusted.tsv', sep='\\t',index_col=0)"
   ]
  },
  {
   "cell_type": "code",
   "execution_count": 5,
   "metadata": {
    "executionInfo": {
     "elapsed": 7,
     "status": "ok",
     "timestamp": 1686659165497,
     "user": {
      "displayName": "Ximena Gutierrez",
      "userId": "04882399948495354315"
     },
     "user_tz": -120
    },
    "id": "l_NfN5imbBE_"
   },
   "outputs": [],
   "source": [
    "def get_dict(arg1,arg2,arg3,sourcedata): #From the source data (measures) it returns a dataframe with regions (bins) and a dictionary {region:number of languages}\n",
    "  min=arg1\n",
    "  max=arg2\n",
    "  increment=arg3\n",
    "  #np.lin... loadspace(min,max,24)\n",
    "  bins=np.arange(min, max, increment)\n",
    "  #clc_10k\n",
    "  data_regions = pd.DataFrame(columns=['Avg_length', 'Median_length', 'Char_types', 'Types','Tokens','TTR','H','region'])\n",
    "\n",
    "  data_regions_freq=dict()\n",
    "  for i in bins:\n",
    "    aux=pd.DataFrame(sourcedata.loc[(sourcedata['Avg_length']>i) & (sourcedata['Avg_length']<(i+increment))])\n",
    "    region=str(i)+\"-\"+str(i+increment)\n",
    "    data_regions_freq[region]=len(aux)  #hash with the number of elements per each region\n",
    "    aux['region']=region\n",
    "    data_regions= pd.concat([data_regions, aux], axis=0)\n",
    "\n",
    "  return (data_regions, data_regions_freq)\n",
    "################################\n",
    "def scaler1(data1, data2): #Input two dictionaries  {region:number of languages}, it returns an scaled version (each dictionary is normalized indepedently).Eeach value is divided by the total languages (~probabilites)\n",
    "  a=np.array(list(data1.values())).sum()\n",
    "  b=np.array(list(data2.values())).sum()\n",
    "  scaled1=dict()\n",
    "  scaled2=dict()\n",
    "  for key in data1:\n",
    "    if (data1[key]==0):\n",
    "      scaled1[key]=0\n",
    "    else:\n",
    "      scaled1[key]=data1[key]/a\n",
    "\n",
    "    if (data2[key]==0):\n",
    "      scaled2[key]=0\n",
    "    else:\n",
    "      scaled2[key]=data2[key]/b\n",
    "      \n",
    "  return(scaled1,scaled2)\n",
    "\n",
    "def scaler2(data1, data2): #Input two dictionaries  {region:number of languages}, it returns an scaled version (each dictionary is normalized indepedently)\n",
    "  a=np.array(list(data1.values())).sum()\n",
    "  b=np.array(list(data2.values())).sum()\n",
    "  scaled=dict()\n",
    "  if (a>b):\n",
    "    max=a\n",
    "    min=b\n",
    "    c=max/min\n",
    "    for key in data2:  #we apply constant c to the set with smallest cardinality \n",
    "      scaled[key]=data2[key]*c\n",
    "    return(data1, scaled)\n",
    "  else:\n",
    "    max=b\n",
    "    min=a\n",
    "    c=max/min\n",
    "    for key in data1:  #we apply constant c to the set with smallest cardinality \n",
    "      scaled[key]=data1[key]*c\n",
    "    return(scaled, data2)\n",
    "\n",
    "###################################################\n",
    "def jaccard_index(data1, data2): # Input two dictionaries  {region:number of languages}\n",
    "  union=dict()\n",
    "  intersection=dict()\n",
    "  intersectionvalues=[]\n",
    "  unionvalues=[]\n",
    "  for key in data1: #both dics have the same keys\n",
    "  #first define the union, whis is for each class/region choose the one with the highest value\n",
    "    if (data1[key] > data2[key]):\n",
    "      union[key]=data1[key]\n",
    "      unionvalues.append(union[key])\n",
    "      \n",
    "    else:\n",
    "      union[key]=data2[key]\n",
    "      unionvalues.append(union[key])\n",
    "\n",
    "    \n",
    "  #Then the interesction: which regions have both  values, choose the smallest \n",
    "    if (data1[key] !=0) and (data2[key]!=0):\n",
    "      if (data1[key] < data2[key]):\n",
    "        intersection[key]=data1[key]\n",
    "        intersectionvalues.append(intersection[key])\n",
    "      else:\n",
    "        intersection[key]=data2[key]\n",
    "        intersectionvalues.append(intersection[key])\n",
    "\n",
    "  jaccard=np.array(intersectionvalues).sum()/np.array(unionvalues).sum()\n",
    "      \n",
    "  return(jaccard, union, intersection, unionvalues, intersectionvalues)\n",
    "\n",
    "###################################3\n",
    "def draw_overlap_plot(frame1,frame2,label1,label2, list1, list2):  \n",
    "  frame1.columns=[label1]\n",
    "  frame2.columns=[label2]\n",
    "  col1=frame1  #from here we'll make barplot 1\n",
    "  col2=frame2 #from here we'll make barplot 2\n",
    "  #Preparing subplot:\n",
    "  fig, ax = plt.subplots()\n",
    "  ax2 = ax.twinx()\n",
    "  plot1=col1.plot(kind='bar', ax=ax, color='orange', width=1, align=\"edge\", alpha=0.4)\n",
    "  plot2=col2.plot(kind='bar', ax=ax2, alpha=0.5,width=1, color='palegreen', align=\"edge\")\n",
    "  positions = (0, 1, 2, 3, 4, 5, 6, 7, 8, 9, 10, 11,12)  #fixed for now, imporve later\n",
    "  labels = (\"1\", \"2\", \"3\", \"4\", \"5\", \"6\",\"7\", \"8\", \"9\", \"10\", \"11\", \"12\", \"13\") #fixed for now, improve later\n",
    "\n",
    "  plt.setp(ax, xticks= positions, xticklabels=labels)\n",
    "  ax.tick_params(labelrotation=0, labelsize=12)\n",
    "  ax2.tick_params(labelsize=12)\n",
    "  ax.legend(fontsize=14)\n",
    "  ax2.legend([label2], loc=('upper left'), fontsize=14)\n",
    "\n",
    "  ax2.xaxis.set_visible(False)\n",
    "  #ax.set_ylim(ax2.get_ylim())\n",
    "  ax.set_ylim(top=50)  #set fixed axis\n",
    "  ax2.set_ylim(top=50)  #set fixed axis\n",
    "\n",
    "  ax.set_xlabel('Mean word length', fontsize=14)\n",
    "\n",
    "  ###We Print Jaccard's score in the plot:\n",
    "\n",
    "  jacc=jaccard_index(list1,list2)[0]  #Jaccard's index (scaling2)\n",
    "  textstr=\"J=\"+str(round(jacc,3))\n",
    "  plt.gcf().text(0.5, 0.8, textstr, fontsize=14)\n"
   ]
  },
  {
   "cell_type": "markdown",
   "metadata": {
    "id": "5Gw6Yw4Dcq0X"
   },
   "source": [
    "**Declare Bin size and range of values:**"
   ]
  },
  {
   "cell_type": "code",
   "execution_count": 6,
   "metadata": {
    "executionInfo": {
     "elapsed": 276,
     "status": "ok",
     "timestamp": 1686659185173,
     "user": {
      "displayName": "Ximena Gutierrez",
      "userId": "04882399948495354315"
     },
     "user_tz": -120
    },
    "id": "ten9IL2AcvUU"
   },
   "outputs": [],
   "source": [
    "init=1\n",
    "final=13\n",
    "step=1"
   ]
  },
  {
   "cell_type": "markdown",
   "metadata": {
    "id": "8cm3YqjV1MOw"
   },
   "source": [
    "\n",
    "\n",
    "---\n",
    "\n",
    "\n",
    "**100 LC vs UD**"
   ]
  },
  {
   "cell_type": "code",
   "execution_count": 7,
   "metadata": {
    "executionInfo": {
     "elapsed": 4,
     "status": "ok",
     "timestamp": 1686659186346,
     "user": {
      "displayName": "Ximena Gutierrez",
      "userId": "04882399948495354315"
     },
     "user_tz": -120
    },
    "id": "eNsOQ3Q0dckG"
   },
   "outputs": [],
   "source": [
    "#100 LC bins:\n",
    "clc_10k_freqs=get_dict(init,final,step,clc_10k)[1]  \n",
    "clc_10k_regions=get_dict(init,final,step,clc_10k)[0]\n",
    "df_clc_10k_freqs=pd.DataFrame.from_dict(clc_10k_freqs, orient='index')"
   ]
  },
  {
   "cell_type": "code",
   "execution_count": 8,
   "metadata": {
    "executionInfo": {
     "elapsed": 283,
     "status": "ok",
     "timestamp": 1686659190012,
     "user": {
      "displayName": "Ximena Gutierrez",
      "userId": "04882399948495354315"
     },
     "user_tz": -120
    },
    "id": "iGleoE4cspwP"
   },
   "outputs": [],
   "source": [
    "#Bins and normalizations:\n",
    "ud_10k_freqs=get_dict(init,final,step,ud_10k)[1]\n",
    "ud_10k_regions=get_dict(init,final,step,ud_10k)[0]\n",
    "df_ud_10k_freqs=pd.DataFrame.from_dict(ud_10k_freqs, orient='index')\n",
    "\n",
    "#Scaling1 #Basic normalization (dividing by the number of languages) ~probabilities\n",
    "ud_10k_freqs_norm1, clc_10k_freqs_norm1=scaler1(ud_10k_freqs,clc_10k_freqs)\n",
    "df_clc_10k_freqs_norm1=pd.DataFrame.from_dict(clc_10k_freqs_norm1, orient='index')\n",
    "df_ud_10k_freqs_norm1=pd.DataFrame.from_dict(ud_10k_freqs_norm1, orient='index')\n",
    "#Scaling2\n",
    "ud_10k_freqs_norm2, clc_10k_freqs_norm2=scaler2(ud_10k_freqs,clc_10k_freqs)\n",
    "df_clc_10k_freqs_norm2=pd.DataFrame.from_dict(clc_10k_freqs_norm2, orient='index')\n",
    "df_ud_10k_freqs_norm2=pd.DataFrame.from_dict(ud_10k_freqs_norm2, orient='index')"
   ]
  },
  {
   "cell_type": "code",
   "execution_count": 9,
   "metadata": {
    "colab": {
     "base_uri": "https://localhost:8080/",
     "height": 426
    },
    "executionInfo": {
     "elapsed": 244,
     "status": "ok",
     "timestamp": 1686659203556,
     "user": {
      "displayName": "Ximena Gutierrez",
      "userId": "04882399948495354315"
     },
     "user_tz": -120
    },
    "id": "PXZTLAyluPLJ",
    "outputId": "de92fbd0-3697-4bb7-86d6-b04c620c7c54"
   },
   "outputs": [
    {
     "data": {
      "text/html": [
       "<div>\n",
       "<style scoped>\n",
       "    .dataframe tbody tr th:only-of-type {\n",
       "        vertical-align: middle;\n",
       "    }\n",
       "\n",
       "    .dataframe tbody tr th {\n",
       "        vertical-align: top;\n",
       "    }\n",
       "\n",
       "    .dataframe thead th {\n",
       "        text-align: right;\n",
       "    }\n",
       "</style>\n",
       "<table border=\"1\" class=\"dataframe\">\n",
       "  <thead>\n",
       "    <tr style=\"text-align: right;\">\n",
       "      <th></th>\n",
       "      <th>0</th>\n",
       "    </tr>\n",
       "  </thead>\n",
       "  <tbody>\n",
       "    <tr>\n",
       "      <th>1-2</th>\n",
       "      <td>0</td>\n",
       "    </tr>\n",
       "    <tr>\n",
       "      <th>2-3</th>\n",
       "      <td>10</td>\n",
       "    </tr>\n",
       "    <tr>\n",
       "      <th>3-4</th>\n",
       "      <td>15</td>\n",
       "    </tr>\n",
       "    <tr>\n",
       "      <th>4-5</th>\n",
       "      <td>33</td>\n",
       "    </tr>\n",
       "    <tr>\n",
       "      <th>5-6</th>\n",
       "      <td>27</td>\n",
       "    </tr>\n",
       "    <tr>\n",
       "      <th>6-7</th>\n",
       "      <td>17</td>\n",
       "    </tr>\n",
       "    <tr>\n",
       "      <th>7-8</th>\n",
       "      <td>3</td>\n",
       "    </tr>\n",
       "    <tr>\n",
       "      <th>8-9</th>\n",
       "      <td>1</td>\n",
       "    </tr>\n",
       "    <tr>\n",
       "      <th>9-10</th>\n",
       "      <td>1</td>\n",
       "    </tr>\n",
       "    <tr>\n",
       "      <th>10-11</th>\n",
       "      <td>0</td>\n",
       "    </tr>\n",
       "    <tr>\n",
       "      <th>11-12</th>\n",
       "      <td>0</td>\n",
       "    </tr>\n",
       "    <tr>\n",
       "      <th>12-13</th>\n",
       "      <td>0</td>\n",
       "    </tr>\n",
       "  </tbody>\n",
       "</table>\n",
       "</div>"
      ],
      "text/plain": [
       "        0\n",
       "1-2     0\n",
       "2-3    10\n",
       "3-4    15\n",
       "4-5    33\n",
       "5-6    27\n",
       "6-7    17\n",
       "7-8     3\n",
       "8-9     1\n",
       "9-10    1\n",
       "10-11   0\n",
       "11-12   0\n",
       "12-13   0"
      ]
     },
     "execution_count": 9,
     "metadata": {},
     "output_type": "execute_result"
    }
   ],
   "source": [
    "df_ud_10k_freqs_norm2"
   ]
  },
  {
   "cell_type": "code",
   "execution_count": 10,
   "metadata": {
    "colab": {
     "base_uri": "https://localhost:8080/",
     "height": 558
    },
    "executionInfo": {
     "elapsed": 770,
     "status": "ok",
     "timestamp": 1686333432314,
     "user": {
      "displayName": "Ximena Gutierrez",
      "userId": "04882399948495354315"
     },
     "user_tz": -120
    },
    "id": "JSOjz4oxqXrm",
    "outputId": "7ced6a40-ee62-46c5-dcc6-7ca7a0c67fe4"
   },
   "outputs": [
    {
     "data": {
      "image/png": "[encoded data removed]",
      "text/plain": [
       "<Figure size 648x432 with 2 Axes>"
      ]
     },
     "metadata": {
      "needs_background": "light"
     },
     "output_type": "display_data"
    }
   ],
   "source": [
    "draw_overlap_plot(df_clc_10k_freqs_norm2, df_ud_10k_freqs_norm2, \"TeDDi\", \"UD\", clc_10k_freqs_norm2, ud_10k_freqs_norm2)"
   ]
  },
  {
   "cell_type": "markdown",
   "metadata": {
    "id": "e-wmZR48eLsl"
   },
   "source": [
    "Jaccard's schore between 100LC and UD:"
   ]
  },
  {
   "cell_type": "code",
   "execution_count": 11,
   "metadata": {
    "colab": {
     "base_uri": "https://localhost:8080/"
    },
    "executionInfo": {
     "elapsed": 17,
     "status": "ok",
     "timestamp": 1686333432315,
     "user": {
      "displayName": "Ximena Gutierrez",
      "userId": "04882399948495354315"
     },
     "user_tz": -120
    },
    "id": "9Nl0CZ-iuEtk",
    "outputId": "74288625-1a9c-4c0a-c5ee-aa6573a41926"
   },
   "outputs": [
    {
     "name": "stdout",
     "output_type": "stream",
     "text": [
      "Jaccard's index (no scaling) 0.6333333333333333\n",
      "Jaccard's index (scaling1) 0.6650056823148877\n",
      "Jaccard's index (scaling2) 0.6650056823148877\n"
     ]
    }
   ],
   "source": [
    "print(\"Jaccard's index (no scaling)\", jaccard_index(ud_10k_freqs,clc_10k_freqs)[0])\n",
    "print(\"Jaccard's index (scaling1)\", jaccard_index(ud_10k_freqs_norm1,clc_10k_freqs_norm1)[0])\n",
    "print(\"Jaccard's index (scaling2)\", jaccard_index(ud_10k_freqs_norm2,clc_10k_freqs_norm2)[0])"
   ]
  },
  {
   "cell_type": "markdown",
   "metadata": {
    "id": "KoZFeNxJEXWQ"
   },
   "source": [
    "\n",
    "\n",
    "---\n",
    "\n",
    "\n",
    "**100 BIBLE CORPUS**"
   ]
  },
  {
   "cell_type": "code",
   "execution_count": 12,
   "metadata": {
    "id": "eeXMWHB9FHbx"
   },
   "outputs": [],
   "source": [
    " #bins\n",
    "bibles_10k_freqs=get_dict(init,final,step,bibles_10k)[1]\n",
    "bibles_10k_regions=get_dict(init,final,step,bibles_10k)[0]\n",
    "df_bibles_10k_freqs=pd.DataFrame.from_dict(bibles_10k_freqs, orient='index')\n",
    "#normalizing1:\n",
    "bibles_10k_freqs_norm1, clc_10k_freqs_norm1=scaler1(bibles_10k_freqs,clc_10k_freqs)\n",
    "df_clc_10k_freqs_norm1=pd.DataFrame.from_dict(clc_10k_freqs_norm1, orient='index')\n",
    "df_bibles_10k_freqs_norm1=pd.DataFrame.from_dict(bibles_10k_freqs_norm1, orient='index')\n",
    "#normalizing2:\n",
    "bibles_10k_freqs_norm2, clc_10k_freqs_norm2=scaler2(bibles_10k_freqs,clc_10k_freqs)\n",
    "df_clc_10k_freqs_norm2=pd.DataFrame.from_dict(clc_10k_freqs_norm2, orient='index')\n",
    "df_bibles_10k_freqs_norm2=pd.DataFrame.from_dict(bibles_10k_freqs_norm2, orient='index')\n"
   ]
  },
  {
   "cell_type": "code",
   "execution_count": 13,
   "metadata": {
    "colab": {
     "base_uri": "https://localhost:8080/",
     "height": 558
    },
    "executionInfo": {
     "elapsed": 485,
     "status": "ok",
     "timestamp": 1686333432788,
     "user": {
      "displayName": "Ximena Gutierrez",
      "userId": "04882399948495354315"
     },
     "user_tz": -120
    },
    "id": "bUgYKGLMrMD-",
    "outputId": "ace0be1d-b543-4357-a9d9-6d55f5abb859"
   },
   "outputs": [
    {
     "data": {
      "image/png": "[encoded data removed]",
      "text/plain": [
       "<Figure size 648x432 with 2 Axes>"
      ]
     },
     "metadata": {
      "needs_background": "light"
     },
     "output_type": "display_data"
    }
   ],
   "source": [
    "draw_overlap_plot(df_clc_10k_freqs_norm2, df_bibles_10k_freqs_norm2, \"TeDDi\", \"100Bibles\",clc_10k_freqs_norm2, bibles_10k_freqs_norm2)"
   ]
  },
  {
   "cell_type": "markdown",
   "metadata": {
    "id": "nHV6PVS2u54u"
   },
   "source": [
    "Jaccard score between 100 Bible corpus and 100LC :"
   ]
  },
  {
   "cell_type": "code",
   "execution_count": 14,
   "metadata": {
    "colab": {
     "base_uri": "https://localhost:8080/"
    },
    "executionInfo": {
     "elapsed": 14,
     "status": "ok",
     "timestamp": 1686333432789,
     "user": {
      "displayName": "Ximena Gutierrez",
      "userId": "04882399948495354315"
     },
     "user_tz": -120
    },
    "id": "GrX0IHo_HfWh",
    "outputId": "4eefb1c5-99f8-42e1-c280-3d2dc2868f0a"
   },
   "outputs": [
    {
     "name": "stdout",
     "output_type": "stream",
     "text": [
      "Jaccard's index (no scaling) 0.5785123966942148\n",
      "Jaccard's index (scaling1) 0.5665228645383952\n",
      "Jaccard's index (scaling2) 0.5665228645383952\n"
     ]
    }
   ],
   "source": [
    "print(\"Jaccard's index (no scaling)\", jaccard_index(bibles_10k_freqs,clc_10k_freqs)[0])\n",
    "print(\"Jaccard's index (scaling1)\", jaccard_index(bibles_10k_freqs_norm1,clc_10k_freqs_norm1)[0])\n",
    "print(\"Jaccard's index (scaling2)\", jaccard_index(bibles_10k_freqs_norm2,clc_10k_freqs_norm2)[0])"
   ]
  },
  {
   "cell_type": "markdown",
   "metadata": {
    "id": "F_zawS5xjG1K"
   },
   "source": [
    "\n",
    "\n",
    "---\n",
    "\n",
    "\n",
    "**XCOPA**\n"
   ]
  },
  {
   "cell_type": "code",
   "execution_count": 15,
   "metadata": {
    "id": "x6DM87k0jpTv"
   },
   "outputs": [],
   "source": [
    " #bins\n",
    "xcopa_10k_freqs=get_dict(init,final,step,xcopa_10k)[1]\n",
    "xcopa_10k_regions=get_dict(init,final,step,xcopa_10k)[0]\n",
    "df_xcopa_10k_freqs=pd.DataFrame.from_dict(xcopa_10k_freqs, orient='index')\n",
    "#normalizing1:\n",
    "xcopa_10k_freqs_norm1, clc_10k_freqs_norm1=scaler1(xcopa_10k_freqs,clc_10k_freqs)\n",
    "df_clc_10k_freqs_norm1=pd.DataFrame.from_dict(clc_10k_freqs_norm1, orient='index')\n",
    "df_xcopa_10k_freqs_norm1=pd.DataFrame.from_dict(xcopa_10k_freqs_norm1, orient='index')\n",
    "#normalizing2:\n",
    "xcopa_10k_freqs_norm2, clc_10k_freqs_norm2=scaler2(xcopa_10k_freqs,clc_10k_freqs)\n",
    "df_clc_10k_freqs_norm2=pd.DataFrame.from_dict(clc_10k_freqs_norm2, orient='index')\n",
    "df_xcopa_10k_freqs_norm2=pd.DataFrame.from_dict(xcopa_10k_freqs_norm2, orient='index')"
   ]
  },
  {
   "cell_type": "code",
   "execution_count": 16,
   "metadata": {
    "colab": {
     "base_uri": "https://localhost:8080/",
     "height": 558
    },
    "executionInfo": {
     "elapsed": 237,
     "status": "ok",
     "timestamp": 1686333433393,
     "user": {
      "displayName": "Ximena Gutierrez",
      "userId": "04882399948495354315"
     },
     "user_tz": -120
    },
    "id": "Wf1YmTxJrfv3",
    "outputId": "ab35e548-c865-4497-b849-07bbb03f74cb"
   },
   "outputs": [
    {
     "data": {
      "image/png": "[encoded data removed]",
      "text/plain": [
       "<Figure size 648x432 with 2 Axes>"
      ]
     },
     "metadata": {
      "needs_background": "light"
     },
     "output_type": "display_data"
    }
   ],
   "source": [
    "draw_overlap_plot(df_clc_10k_freqs_norm2, df_xcopa_10k_freqs_norm2, \"TeDDi\", \"XCOPA\", clc_10k_freqs_norm2, xcopa_10k_freqs_norm2)"
   ]
  },
  {
   "cell_type": "markdown",
   "metadata": {
    "id": "Sk_7eXHUkYJ-"
   },
   "source": [
    "Jaccard score between Xcopa corpus and 100LC:"
   ]
  },
  {
   "cell_type": "code",
   "execution_count": 17,
   "metadata": {
    "colab": {
     "base_uri": "https://localhost:8080/"
    },
    "executionInfo": {
     "elapsed": 6,
     "status": "ok",
     "timestamp": 1686333433394,
     "user": {
      "displayName": "Ximena Gutierrez",
      "userId": "04882399948495354315"
     },
     "user_tz": -120
    },
    "id": "sZUz5RYmkYJ_",
    "outputId": "9e0f2291-0b6f-48c8-f231-b4133a493bea"
   },
   "outputs": [
    {
     "name": "stdout",
     "output_type": "stream",
     "text": [
      "Jaccard's index (no scaling) 0.12359550561797752\n",
      "Jaccard's index (scaling1) 0.6343906510851419\n",
      "Jaccard's index (scaling2) 0.6343906510851419\n"
     ]
    }
   ],
   "source": [
    "print(\"Jaccard's index (no scaling)\", jaccard_index(xcopa_10k_freqs,clc_10k_freqs)[0])\n",
    "print(\"Jaccard's index (scaling1)\", jaccard_index(xcopa_10k_freqs_norm1,clc_10k_freqs_norm1)[0])\n",
    "print(\"Jaccard's index (scaling2)\", jaccard_index(xcopa_10k_freqs_norm2,clc_10k_freqs_norm2)[0])"
   ]
  },
  {
   "cell_type": "markdown",
   "metadata": {
    "id": "uXcgcai-2Iww"
   },
   "source": [
    "\n",
    "\n",
    "---\n",
    "\n",
    "\n",
    "**TyDiQA**"
   ]
  },
  {
   "cell_type": "code",
   "execution_count": 18,
   "metadata": {
    "id": "amg9GayN2n_m"
   },
   "outputs": [],
   "source": [
    " #bins\n",
    "tydiqa_10k_freqs=get_dict(init,final,step,tydiqa_10k)[1]\n",
    "tydiqa_10k_regions=get_dict(init,final,step,tydiqa_10k)[0]\n",
    "df_tydiqa_10k_freqs=pd.DataFrame.from_dict(tydiqa_10k_freqs, orient='index')\n",
    "#normalizing1:\n",
    "tydiqa_10k_freqs_norm1, clc_10k_freqs_norm1=scaler1(tydiqa_10k_freqs,clc_10k_freqs)\n",
    "df_clc_10k_freqs_norm1=pd.DataFrame.from_dict(clc_10k_freqs_norm1, orient='index')\n",
    "df_tydiqa_10k_freqs_norm1=pd.DataFrame.from_dict(tydiqa_10k_freqs_norm1, orient='index')\n",
    "#normalizing2:\n",
    "tydiqa_10k_freqs_norm2, clc_10k_freqs_norm2=scaler2(tydiqa_10k_freqs,clc_10k_freqs)\n",
    "df_clc_10k_freqs_norm2=pd.DataFrame.from_dict(clc_10k_freqs_norm2, orient='index')\n",
    "df_tydiqa_10k_freqs_norm2=pd.DataFrame.from_dict(tydiqa_10k_freqs_norm2, orient='index')"
   ]
  },
  {
   "cell_type": "code",
   "execution_count": 19,
   "metadata": {
    "colab": {
     "base_uri": "https://localhost:8080/",
     "height": 558
    },
    "executionInfo": {
     "elapsed": 704,
     "status": "ok",
     "timestamp": 1686333434095,
     "user": {
      "displayName": "Ximena Gutierrez",
      "userId": "04882399948495354315"
     },
     "user_tz": -120
    },
    "id": "hRlFY3p1vPaO",
    "outputId": "f27e625a-6fce-4508-c8e3-13f56b7754fb"
   },
   "outputs": [
    {
     "data": {
      "image/png": "[encoded data removed]",
      "text/plain": [
       "<Figure size 648x432 with 2 Axes>"
      ]
     },
     "metadata": {
      "needs_background": "light"
     },
     "output_type": "display_data"
    }
   ],
   "source": [
    "draw_overlap_plot(df_clc_10k_freqs_norm2, df_tydiqa_10k_freqs_norm2, \"TeDDi\", \"TyDiQA\", clc_10k_freqs_norm2, tydiqa_10k_freqs_norm2)"
   ]
  },
  {
   "cell_type": "markdown",
   "metadata": {
    "id": "h11nqQwVfKK6"
   },
   "source": [
    "Jaccard's score between 100LC and TydiQA"
   ]
  },
  {
   "cell_type": "code",
   "execution_count": 20,
   "metadata": {
    "colab": {
     "base_uri": "https://localhost:8080/"
    },
    "executionInfo": {
     "elapsed": 15,
     "status": "ok",
     "timestamp": 1686333434097,
     "user": {
      "displayName": "Ximena Gutierrez",
      "userId": "04882399948495354315"
     },
     "user_tz": -120
    },
    "id": "IOhFCrY03Mhn",
    "outputId": "ebcc4cad-35d5-44c5-bffe-de28c3d5e13a"
   },
   "outputs": [
    {
     "name": "stdout",
     "output_type": "stream",
     "text": [
      "Jaccard's index (no scaling) 0.12359550561797752\n",
      "Jaccard's index (scaling1) 0.5515055467511886\n",
      "Jaccard's index (scaling2) 0.5515055467511887\n"
     ]
    }
   ],
   "source": [
    "print(\"Jaccard's index (no scaling)\", jaccard_index(tydiqa_10k_freqs,clc_10k_freqs)[0])\n",
    "print(\"Jaccard's index (scaling1)\", jaccard_index(tydiqa_10k_freqs_norm1,clc_10k_freqs_norm1)[0])\n",
    "print(\"Jaccard's index (scaling2)\", jaccard_index(tydiqa_10k_freqs_norm2,clc_10k_freqs_norm2)[0])"
   ]
  },
  {
   "cell_type": "markdown",
   "metadata": {
    "id": "AHi27NOghkjt"
   },
   "source": [
    "\n",
    "\n",
    "---\n",
    "**XQUAD**\n"
   ]
  },
  {
   "cell_type": "code",
   "execution_count": 21,
   "metadata": {
    "id": "7Mr81TBDihMe"
   },
   "outputs": [],
   "source": [
    " #bins\n",
    "xquad_10k_freqs=get_dict(init,final,step,xquad_10k)[1]\n",
    "xquad_10k_regions=get_dict(init,final,step,xquad_10k)[0]\n",
    "df_xquad_10k_freqs=pd.DataFrame.from_dict(xquad_10k_freqs, orient='index')\n",
    "#normalizing1:\n",
    "xquad_10k_freqs_norm1, clc_10k_freqs_norm1=scaler1(xquad_10k_freqs,clc_10k_freqs)\n",
    "df_clc_10k_freqs_norm1=pd.DataFrame.from_dict(clc_10k_freqs_norm1, orient='index')\n",
    "df_xquad_10k_freqs_norm1=pd.DataFrame.from_dict(xquad_10k_freqs_norm1, orient='index')\n",
    "#normalizing2:\n",
    "xquad_10k_freqs_norm2, clc_10k_freqs_norm2=scaler2(xquad_10k_freqs,clc_10k_freqs)\n",
    "df_clc_10k_freqs_norm2=pd.DataFrame.from_dict(clc_10k_freqs_norm2, orient='index')\n",
    "df_xquad_10k_freqs_norm2=pd.DataFrame.from_dict(xquad_10k_freqs_norm2, orient='index')"
   ]
  },
  {
   "cell_type": "code",
   "execution_count": 22,
   "metadata": {
    "colab": {
     "base_uri": "https://localhost:8080/",
     "height": 558
    },
    "executionInfo": {
     "elapsed": 491,
     "status": "ok",
     "timestamp": 1686333434575,
     "user": {
      "displayName": "Ximena Gutierrez",
      "userId": "04882399948495354315"
     },
     "user_tz": -120
    },
    "id": "HP123X3uvljc",
    "outputId": "a0ba0761-69e2-447d-af40-ccb2b8e7cd41"
   },
   "outputs": [
    {
     "data": {
      "image/png": "[encoded data removed]",
      "text/plain": [
       "<Figure size 648x432 with 2 Axes>"
      ]
     },
     "metadata": {
      "needs_background": "light"
     },
     "output_type": "display_data"
    }
   ],
   "source": [
    "draw_overlap_plot(df_clc_10k_freqs_norm2, df_xquad_10k_freqs_norm2, \"TeDDi\", \"XQuAD\", clc_10k_freqs_norm2, xquad_10k_freqs_norm2)"
   ]
  },
  {
   "cell_type": "markdown",
   "metadata": {
    "id": "r0ActI8gfSgI"
   },
   "source": [
    "Jaccard's score between 100LC and Xquad"
   ]
  },
  {
   "cell_type": "code",
   "execution_count": 23,
   "metadata": {
    "colab": {
     "base_uri": "https://localhost:8080/"
    },
    "executionInfo": {
     "elapsed": 9,
     "status": "ok",
     "timestamp": 1686333434576,
     "user": {
      "displayName": "Ximena Gutierrez",
      "userId": "04882399948495354315"
     },
     "user_tz": -120
    },
    "id": "Z4JlSJx9i8O3",
    "outputId": "d619c2a8-2612-4ce2-b648-e8002ef3d177"
   },
   "outputs": [
    {
     "name": "stdout",
     "output_type": "stream",
     "text": [
      "Jaccard's index (no scaling) 0.1348314606741573\n",
      "Jaccard's index (scaling1) 0.6342769701606732\n",
      "Jaccard's index (scaling2) 0.6342769701606734\n"
     ]
    }
   ],
   "source": [
    "print(\"Jaccard's index (no scaling)\", jaccard_index(xquad_10k_freqs,clc_10k_freqs)[0])\n",
    "print(\"Jaccard's index (scaling1)\", jaccard_index(xquad_10k_freqs_norm1,clc_10k_freqs_norm1)[0])\n",
    "print(\"Jaccard's index (scaling2)\", jaccard_index(xquad_10k_freqs_norm2,clc_10k_freqs_norm2)[0])"
   ]
  },
  {
   "cell_type": "markdown",
   "metadata": {
    "id": "1DScTV_TQwGn"
   },
   "source": [
    "\n",
    "\n",
    "---\n",
    "**XNLI**\n"
   ]
  },
  {
   "cell_type": "code",
   "execution_count": 24,
   "metadata": {
    "id": "j3A9gjx0UHyJ"
   },
   "outputs": [],
   "source": [
    " #bins\n",
    "xnli_10k_freqs=get_dict(init,final,step,xnli_10k)[1]\n",
    "xnli_10k_regions=get_dict(init,final,step,xnli_10k)[0]\n",
    "df_xnli_10k_freqs=pd.DataFrame.from_dict(xnli_10k_freqs, orient='index')\n",
    "#normalizing1:\n",
    "xnli_10k_freqs_norm1, clc_10k_freqs_norm1=scaler1(xnli_10k_freqs,clc_10k_freqs)\n",
    "df_clc_10k_freqs_norm1=pd.DataFrame.from_dict(clc_10k_freqs_norm1, orient='index')\n",
    "df_xnli_10k_freqs_norm1=pd.DataFrame.from_dict(xnli_10k_freqs_norm1, orient='index')\n",
    "#normalizing2:\n",
    "xnli_10k_freqs_norm2, clc_10k_freqs_norm2=scaler2(xnli_10k_freqs,clc_10k_freqs)\n",
    "df_clc_10k_freqs_norm2=pd.DataFrame.from_dict(clc_10k_freqs_norm2, orient='index')\n",
    "df_xnli_10k_freqs_norm2=pd.DataFrame.from_dict(xnli_10k_freqs_norm2, orient='index')"
   ]
  },
  {
   "cell_type": "code",
   "execution_count": 25,
   "metadata": {
    "colab": {
     "base_uri": "https://localhost:8080/",
     "height": 558
    },
    "executionInfo": {
     "elapsed": 590,
     "status": "ok",
     "timestamp": 1686333435505,
     "user": {
      "displayName": "Ximena Gutierrez",
      "userId": "04882399948495354315"
     },
     "user_tz": -120
    },
    "id": "9Rkz2GKHv4yb",
    "outputId": "a33e1f80-0f34-4583-d1b3-3038b962c3da"
   },
   "outputs": [
    {
     "data": {
      "image/png": "[encoded data removed]",
      "text/plain": [
       "<Figure size 648x432 with 2 Axes>"
      ]
     },
     "metadata": {
      "needs_background": "light"
     },
     "output_type": "display_data"
    }
   ],
   "source": [
    "draw_overlap_plot(df_clc_10k_freqs_norm2, df_xnli_10k_freqs_norm2, \"TeDDi\", \"XNLI\", clc_10k_freqs_norm2, xnli_10k_freqs_norm2)"
   ]
  },
  {
   "cell_type": "markdown",
   "metadata": {
    "id": "gaN_rJVYfYcr"
   },
   "source": [
    "Jaccard's score between 100LC and XNLI"
   ]
  },
  {
   "cell_type": "code",
   "execution_count": 26,
   "metadata": {
    "colab": {
     "base_uri": "https://localhost:8080/"
    },
    "executionInfo": {
     "elapsed": 11,
     "status": "ok",
     "timestamp": 1686333435506,
     "user": {
      "displayName": "Ximena Gutierrez",
      "userId": "04882399948495354315"
     },
     "user_tz": -120
    },
    "id": "wsSJ5t9LRflC",
    "outputId": "bc0bf45d-8fcb-49ee-d6f1-283d820c196b"
   },
   "outputs": [
    {
     "name": "stdout",
     "output_type": "stream",
     "text": [
      "Jaccard's index (no scaling) 0.16853932584269662\n",
      "Jaccard's index (scaling1) 0.7038927887683472\n",
      "Jaccard's index (scaling2) 0.7038927887683472\n"
     ]
    }
   ],
   "source": [
    "print(\"Jaccard's index (no scaling)\", jaccard_index(xnli_10k_freqs,clc_10k_freqs)[0])\n",
    "print(\"Jaccard's index (scaling1)\", jaccard_index(xnli_10k_freqs_norm1,clc_10k_freqs_norm1)[0])\n",
    "print(\"Jaccard's index (scaling2)\", jaccard_index(xnli_10k_freqs_norm2,clc_10k_freqs_norm2)[0])"
   ]
  },
  {
   "cell_type": "markdown",
   "metadata": {
    "id": "mGJlXv73aATa"
   },
   "source": [
    "\n",
    "\n",
    "---\n",
    "**XGLUE**\n"
   ]
  },
  {
   "cell_type": "code",
   "execution_count": 27,
   "metadata": {
    "id": "fhKx--19aX22"
   },
   "outputs": [],
   "source": [
    " #bins\n",
    "xglue_10k_freqs=get_dict(init,final,step,xglue_10k)[1]\n",
    "xglue_10k_regions=get_dict(init,final,step,xglue_10k)[0]\n",
    "df_xglue_10k_freqs=pd.DataFrame.from_dict(xglue_10k_freqs, orient='index')\n",
    "#normalizing1:\n",
    "xglue_10k_freqs_norm1, clc_10k_freqs_norm1=scaler1(xglue_10k_freqs,clc_10k_freqs)\n",
    "df_clc_10k_freqs_norm1=pd.DataFrame.from_dict(clc_10k_freqs_norm1, orient='index')\n",
    "df_xglue_10k_freqs_norm1=pd.DataFrame.from_dict(xglue_10k_freqs_norm1, orient='index')\n",
    "#normalizing2:\n",
    "xglue_10k_freqs_norm2, clc_10k_freqs_norm2=scaler2(xglue_10k_freqs,clc_10k_freqs)\n",
    "df_clc_10k_freqs_norm2=pd.DataFrame.from_dict(clc_10k_freqs_norm2, orient='index')\n",
    "df_xglue_10k_freqs_norm2=pd.DataFrame.from_dict(xglue_10k_freqs_norm2, orient='index')"
   ]
  },
  {
   "cell_type": "code",
   "execution_count": 28,
   "metadata": {
    "colab": {
     "base_uri": "https://localhost:8080/",
     "height": 558
    },
    "executionInfo": {
     "elapsed": 348,
     "status": "ok",
     "timestamp": 1686333435846,
     "user": {
      "displayName": "Ximena Gutierrez",
      "userId": "04882399948495354315"
     },
     "user_tz": -120
    },
    "id": "HezKRtRQwMaH",
    "outputId": "90b6c9b9-d082-4192-b3eb-675bb3b84ea6"
   },
   "outputs": [
    {
     "data": {
      "image/png": "[encoded data removed]",
      "text/plain": [
       "<Figure size 648x432 with 2 Axes>"
      ]
     },
     "metadata": {
      "needs_background": "light"
     },
     "output_type": "display_data"
    }
   ],
   "source": [
    "draw_overlap_plot(df_clc_10k_freqs_norm2, df_xglue_10k_freqs_norm2, \"TeDDi\", \"XGLUE\", clc_10k_freqs_norm2, xglue_10k_freqs_norm2)"
   ]
  },
  {
   "cell_type": "markdown",
   "metadata": {
    "id": "wELlX08VfdOC"
   },
   "source": [
    "Jaccard's score between 100LC and Xglue:"
   ]
  },
  {
   "cell_type": "code",
   "execution_count": 29,
   "metadata": {
    "colab": {
     "base_uri": "https://localhost:8080/"
    },
    "executionInfo": {
     "elapsed": 13,
     "status": "ok",
     "timestamp": 1686333435846,
     "user": {
      "displayName": "Ximena Gutierrez",
      "userId": "04882399948495354315"
     },
     "user_tz": -120
    },
    "id": "E8SBhh0Fa1vA",
    "outputId": "525f4a88-4aba-4837-a16b-b4cd14b84445"
   },
   "outputs": [
    {
     "name": "stdout",
     "output_type": "stream",
     "text": [
      "Jaccard's index (no scaling) 0.21348314606741572\n",
      "Jaccard's index (scaling1) 0.580373831775701\n",
      "Jaccard's index (scaling2) 0.580373831775701\n"
     ]
    }
   ],
   "source": [
    "print(\"Jaccard's index (no scaling)\", jaccard_index(xglue_10k_freqs,clc_10k_freqs)[0])\n",
    "print(\"Jaccard's index (scaling1)\", jaccard_index(xglue_10k_freqs_norm1,clc_10k_freqs_norm1)[0])\n",
    "print(\"Jaccard's index (scaling2)\", jaccard_index(xglue_10k_freqs_norm2,clc_10k_freqs_norm2)[0])"
   ]
  },
  {
   "cell_type": "markdown",
   "metadata": {
    "id": "RZ1jqRN68vA5"
   },
   "source": [
    "\n",
    "\n",
    "---\n",
    "**XTREME**\n",
    "\n"
   ]
  },
  {
   "cell_type": "code",
   "execution_count": 30,
   "metadata": {
    "id": "BaBpRQVo81Aq"
   },
   "outputs": [],
   "source": [
    " #bins\n",
    "xtreme_10k_freqs=get_dict(init,final,step,xtreme_10k)[1]\n",
    "xtreme_10k_regions=get_dict(init,final,step,xtreme_10k)[0]\n",
    "df_xtreme_10k_freqs=pd.DataFrame.from_dict(xtreme_10k_freqs, orient='index')\n",
    "#normalizing1:\n",
    "xtreme_10k_freqs_norm1, clc_10k_freqs_norm1=scaler1(xtreme_10k_freqs,clc_10k_freqs)\n",
    "df_clc_10k_freqs_norm1=pd.DataFrame.from_dict(clc_10k_freqs_norm1, orient='index')\n",
    "df_xtreme_10k_freqs_norm1=pd.DataFrame.from_dict(xtreme_10k_freqs_norm1, orient='index')\n",
    "#normalizing2:\n",
    "xtreme_10k_freqs_norm2, clc_10k_freqs_norm2=scaler2(xtreme_10k_freqs,clc_10k_freqs)\n",
    "df_clc_10k_freqs_norm2=pd.DataFrame.from_dict(clc_10k_freqs_norm2, orient='index')\n",
    "df_xtreme_10k_freqs_norm2=pd.DataFrame.from_dict(xtreme_10k_freqs_norm2, orient='index')"
   ]
  },
  {
   "cell_type": "code",
   "execution_count": 31,
   "metadata": {
    "colab": {
     "base_uri": "https://localhost:8080/",
     "height": 558
    },
    "executionInfo": {
     "elapsed": 793,
     "status": "ok",
     "timestamp": 1686333436633,
     "user": {
      "displayName": "Ximena Gutierrez",
      "userId": "04882399948495354315"
     },
     "user_tz": -120
    },
    "id": "Pubm1nlM9Cdt",
    "outputId": "b9312af5-d418-4524-eeec-41bff303a541"
   },
   "outputs": [
    {
     "data": {
      "image/png": "[encoded data removed]",
      "text/plain": [
       "<Figure size 648x432 with 2 Axes>"
      ]
     },
     "metadata": {
      "needs_background": "light"
     },
     "output_type": "display_data"
    }
   ],
   "source": [
    "draw_overlap_plot(df_clc_10k_freqs_norm2, df_xtreme_10k_freqs_norm2, \"TeDDi\", \"XTREME\", clc_10k_freqs_norm2, xtreme_10k_freqs_norm2)"
   ]
  },
  {
   "cell_type": "markdown",
   "metadata": {
    "id": "j811szKG9enA"
   },
   "source": [
    "Jaccard's score between 100LC and XTREME:"
   ]
  },
  {
   "cell_type": "code",
   "execution_count": 32,
   "metadata": {
    "colab": {
     "base_uri": "https://localhost:8080/"
    },
    "executionInfo": {
     "elapsed": 8,
     "status": "ok",
     "timestamp": 1686333436633,
     "user": {
      "displayName": "Ximena Gutierrez",
      "userId": "04882399948495354315"
     },
     "user_tz": -120
    },
    "id": "QoiGPmJH9enB",
    "outputId": "3af0c18c-76d0-4015-cae4-ce2d6ed07a75"
   },
   "outputs": [
    {
     "name": "stdout",
     "output_type": "stream",
     "text": [
      "Jaccard's index (no scaling) 0.4175824175824176\n",
      "Jaccard's index (scaling1) 0.47137838396362886\n",
      "Jaccard's index (scaling2) 0.4713783839636289\n"
     ]
    }
   ],
   "source": [
    "print(\"Jaccard's index (no scaling)\", jaccard_index(xtreme_10k_freqs,clc_10k_freqs)[0])\n",
    "print(\"Jaccard's index (scaling1)\", jaccard_index(xtreme_10k_freqs_norm1,clc_10k_freqs_norm1)[0])\n",
    "print(\"Jaccard's index (scaling2)\", jaccard_index(xtreme_10k_freqs_norm2,clc_10k_freqs_norm2)[0])"
   ]
  },
  {
   "cell_type": "markdown",
   "metadata": {
    "id": "3XPukFGuvN9w"
   },
   "source": [
    "\n",
    "\n",
    "---\n",
    "**Mbert (wiki data)**\n"
   ]
  },
  {
   "cell_type": "code",
   "execution_count": 33,
   "metadata": {
    "id": "2bla1d-IvSrn"
   },
   "outputs": [],
   "source": [
    " #bins\n",
    "mbertwiki_10k_freqs=get_dict(init,final,step,mbertwiki_10k)[1]\n",
    "mbertwiki_10k_regions=get_dict(init,final,step,mbertwiki_10k)[0]\n",
    "df_mbertwiki_10k_freqs=pd.DataFrame.from_dict(mbertwiki_10k_freqs, orient='index')\n",
    "#normalizing1:\n",
    "mbertwiki_10k_freqs_norm1, clc_10k_freqs_norm1=scaler1(mbertwiki_10k_freqs,clc_10k_freqs)\n",
    "df_clc_10k_freqs_norm1=pd.DataFrame.from_dict(clc_10k_freqs_norm1, orient='index')\n",
    "df_mbertwiki_10k_freqs_norm1=pd.DataFrame.from_dict(mbertwiki_10k_freqs_norm1, orient='index')\n",
    "#normalizing2:\n",
    "mbertwiki_10k_freqs_norm2, clc_10k_freqs_norm2=scaler2(mbertwiki_10k_freqs,clc_10k_freqs)\n",
    "df_clc_10k_freqs_norm2=pd.DataFrame.from_dict(clc_10k_freqs_norm2, orient='index')\n",
    "df_mbertwiki_10k_freqs_norm2=pd.DataFrame.from_dict(mbertwiki_10k_freqs_norm2, orient='index')"
   ]
  },
  {
   "cell_type": "code",
   "execution_count": 34,
   "metadata": {
    "colab": {
     "base_uri": "https://localhost:8080/",
     "height": 558
    },
    "executionInfo": {
     "elapsed": 730,
     "status": "ok",
     "timestamp": 1686333437360,
     "user": {
      "displayName": "Ximena Gutierrez",
      "userId": "04882399948495354315"
     },
     "user_tz": -120
    },
    "id": "wyPO5c5Dvh0e",
    "outputId": "7ca05465-75ee-4434-81c4-ae0ada81706b"
   },
   "outputs": [
    {
     "data": {
      "image/png": "[encoded data removed]",
      "text/plain": [
       "<Figure size 648x432 with 2 Axes>"
      ]
     },
     "metadata": {
      "needs_background": "light"
     },
     "output_type": "display_data"
    }
   ],
   "source": [
    "draw_overlap_plot(df_clc_10k_freqs_norm2, df_mbertwiki_10k_freqs_norm2, \"TeDDi\", \"MBERT\", clc_10k_freqs_norm2, mbertwiki_10k_freqs_norm2)"
   ]
  },
  {
   "cell_type": "markdown",
   "metadata": {
    "id": "XTkmvIfFw9UW"
   },
   "source": [
    "Jaccard's score between 100LC and XTREME:"
   ]
  },
  {
   "cell_type": "code",
   "execution_count": 35,
   "metadata": {
    "colab": {
     "base_uri": "https://localhost:8080/"
    },
    "executionInfo": {
     "elapsed": 11,
     "status": "ok",
     "timestamp": 1686333437360,
     "user": {
      "displayName": "Ximena Gutierrez",
      "userId": "04882399948495354315"
     },
     "user_tz": -120
    },
    "id": "bjZNGNaew9UY",
    "outputId": "05c548b2-baae-472b-dc9f-b05cd22319f1"
   },
   "outputs": [
    {
     "name": "stdout",
     "output_type": "stream",
     "text": [
      "Jaccard's index (no scaling) 0.5897435897435898\n",
      "Jaccard's index (scaling1) 0.6171209141144517\n",
      "Jaccard's index (scaling2) 0.6171209141144517\n"
     ]
    }
   ],
   "source": [
    "print(\"Jaccard's index (no scaling)\", jaccard_index(mbertwiki_10k_freqs,clc_10k_freqs)[0])\n",
    "print(\"Jaccard's index (scaling1)\", jaccard_index(mbertwiki_10k_freqs_norm1,clc_10k_freqs_norm1)[0])\n",
    "print(\"Jaccard's index (scaling2)\", jaccard_index(mbertwiki_10k_freqs_norm2,clc_10k_freqs_norm2)[0])"
   ]
  },
  {
   "cell_type": "code",
   "execution_count": null,
   "metadata": {},
   "outputs": [],
   "source": []
  }
 ],
 "metadata": {
  "colab": {
   "authorship_tag": "ABX9TyOo1HQbXNyMlUs5HicPJYAV",
   "mount_file_id": "1XX-RtYElTyqdMTVUUvOzSK9peILS7ZmD",
   "provenance": []
  },
  "kernelspec": {
   "display_name": "Python 3",
   "language": "python",
   "name": "python3"
  },
  "language_info": {
   "codemirror_mode": {
    "name": "ipython",
    "version": 3
   },
   "file_extension": ".py",
   "mimetype": "text/x-python",
   "name": "python",
   "nbconvert_exporter": "python",
   "pygments_lexer": "ipython3",
   "version": "3.7.3"
  }
 },
 "nbformat": 4,
 "nbformat_minor": 4
}
